{
 "cells": [
  {
   "cell_type": "markdown",
   "id": "07269416-17c3-4b2e-9114-88bdd5cef70e",
   "metadata": {},
   "source": []
  },
  {
   "cell_type": "markdown",
   "id": "ca31ff99-ce26-4d04-a85e-2d7065d0d2e2",
   "metadata": {
    "tags": []
   },
   "source": [
    "## **RAVIOLI CINESI AL VAPORE**"
   ]
  },
  {
   "cell_type": "markdown",
   "id": "d0b5f5dc-3c09-4581-80dd-31b1152f1dcc",
   "metadata": {},
   "source": [
    "***"
   ]
  },
  {
   "cell_type": "markdown",
   "id": "bbaca340-405e-4bef-80b7-4e5354e8f133",
   "metadata": {},
   "source": [
    ">*Sono tipici del Capodanno cinese, come gli involtini primavera, ma vengono consumati durante tutte le festività perché la loro forma, che ricorda quella di un’antica moneta, è considerata un simbolo di buona fortuna: stiamo parlando dei ravioli cinesi al vapore! I jiaozi fanno parte del cosiddetto dim sum, un insieme di bocconcini pensati per essere condivisi con i propri cari: la traduzione letterale del nome significa infatti “dritti al cuore”. In molte occasioni amici e familiari si ritrovano per prepararli in abbondanza e non mancano le discussioni sul ripieno che può essere con carne, gamberi o verdure.*"
   ]
  },
  {
   "cell_type": "markdown",
   "id": "92b55f04-7294-4f36-a718-cbb2349c1b5a",
   "metadata": {},
   "source": [
    "! (https://www.giallozafferano.it/images/230-23062/Ravioli-cinesi-al-vapore_650x433_wm.jpg)"
   ]
  },
  {
   "cell_type": "markdown",
   "id": "bafad974-9cb0-4ee3-a44b-de11be459b71",
   "metadata": {},
   "source": [
    "#### INGREDIENTI *per circa 18 ravioli*"
   ]
  },
  {
   "cell_type": "markdown",
   "id": "16833d41-a59c-45bc-a595-d507ba080b77",
   "metadata": {},
   "source": [
    "***"
   ]
  },
  {
   "cell_type": "markdown",
   "id": "9d4b8612-4f27-445a-b094-50bda290cb0c",
   "metadata": {},
   "source": [
    "***PER L'IMPASTO***"
   ]
  },
  {
   "cell_type": "markdown",
   "id": "dedfc0ba-c6d9-4b78-bc84-2fb0e1d56416",
   "metadata": {},
   "source": [
    "- farina 00 250g\n",
    "- acqua tiepida 115g\n",
    "- sale fino 1 pizzico"
   ]
  },
  {
   "cell_type": "markdown",
   "id": "1979c1a3-c204-4dda-a48e-351b4b3cab4d",
   "metadata": {},
   "source": [
    "***PER IL RIPIENO***"
   ]
  },
  {
   "cell_type": "markdown",
   "id": "25ed375f-03ab-4d63-bbc7-5430c78c6f73",
   "metadata": {},
   "source": [
    "- carne di maiale macinato 250g\n",
    "- cipollotto fresco 30g\n",
    "- vino di riso 10g\n",
    "- sale fino 1 pizzico\n",
    "- cavolo cappuccio 80g\n",
    "- acqua 40g\n",
    "- salsa di soia 2 cucchiai\n",
    "- pepe bianco 1 pizzico"
   ]
  },
  {
   "cell_type": "code",
   "execution_count": null,
   "id": "3eeed7c9-3b01-4613-9daf-f796e4f3de48",
   "metadata": {},
   "outputs": [],
   "source": []
  }
 ],
 "metadata": {
  "kernelspec": {
   "display_name": "Python 3 (ipykernel)",
   "language": "python",
   "name": "python3"
  },
  "language_info": {
   "codemirror_mode": {
    "name": "ipython",
    "version": 3
   },
   "file_extension": ".py",
   "mimetype": "text/x-python",
   "name": "python",
   "nbconvert_exporter": "python",
   "pygments_lexer": "ipython3",
   "version": "3.9.5"
  }
 },
 "nbformat": 4,
 "nbformat_minor": 5
}
